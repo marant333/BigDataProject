{
 "cells": [
  {
   "cell_type": "code",
   "execution_count": 0,
   "metadata": {
    "application/vnd.databricks.v1+cell": {
     "cellMetadata": {
      "byteLimit": 2048000,
      "rowLimit": 10000
     },
     "inputWidgets": {},
     "nuid": "51841c9b-3468-4b88-89e9-88a2dddc9a25",
     "showTitle": false,
     "tableResultSettingsMap": {},
     "title": ""
    }
   },
   "outputs": [],
   "source": [
    "# Mount the data lake with OAuth authentication\n",
    "\n",
    "configs = {\n",
    "  \"fs.azure.account.auth.type\": \"OAuth\",\n",
    "  \"fs.azure.account.oauth.provider.type\": \"org.apache.hadoop.fs.azurebfs.oauth2.ClientCredsTokenProvider\",\n",
    "  \"fs.azure.account.oauth2.client.id\": \"a6cfb1fe-d0b9-447c-ac3a-19f96db63873\",\n",
    "  \"fs.azure.account.oauth2.client.secret\": dbutils.secrets.get(scope=\"NewSecretScope\", key=\"KVSecret\"),\n",
    "  \"fs.azure.account.oauth2.client.endpoint\": \"https://login.microsoftonline.com/f0bdc1c9-5148-4f86-ac40-edd976e1814c/oauth2/token\"\n",
    "}\n",
    "\n",
    " # directory mounted during the first code run\n",
    " # dbutils.fs.mount(\n",
    " # source = \"abfss://big-data-container@bigdatastorageaccount.dfs.core.windows.net/\",\n",
    " # mount_point = \"/mnt/NewMount\",\n",
    "  #extra_configs = configs\n",
    "  #)"
   ]
  },
  {
   "cell_type": "code",
   "execution_count": 0,
   "metadata": {
    "application/vnd.databricks.v1+cell": {
     "cellMetadata": {
      "byteLimit": 2048000,
      "rowLimit": 10000
     },
     "inputWidgets": {},
     "nuid": "e11d8f1d-d33c-4c74-b3a8-6254667806a5",
     "showTitle": false,
     "tableResultSettingsMap": {},
     "title": ""
    }
   },
   "outputs": [
    {
     "output_type": "display_data",
     "data": {
      "text/html": [
       "<style scoped>\n",
       "  .table-result-container {\n",
       "    max-height: 300px;\n",
       "    overflow: auto;\n",
       "  }\n",
       "  table, th, td {\n",
       "    border: 1px solid black;\n",
       "    border-collapse: collapse;\n",
       "  }\n",
       "  th, td {\n",
       "    padding: 5px;\n",
       "  }\n",
       "  th {\n",
       "    text-align: left;\n",
       "  }\n",
       "</style><div class='table-result-container'><table class='table-result'><thead style='background-color: white'><tr><th>created_at</th><th>file_name</th><th>followers</th><th>friends</th><th>group_name</th><th>location</th><th>retweet_count</th><th>screenname</th><th>search_query</th><th>text</th><th>twitter_id</th><th>username</th><th>polarity</th><th>partition_0</th><th>partition_1</th></tr></thead><tbody><tr><td>14/07/2020 22:46</td><td>Canada</td><td>98</td><td>172</td><td>Canada</td><td>null</td><td>0</td><td>STACKZBYTCHEZ</td><td>#Canada</td><td>https://t.co/bIlmMYUV5C ⬅️TAP THE LINK ITS A WEBSITE  #blackbusiness #blacklivesmatter #protest #nojusticenopeace… https://t.co/76ITmfvFc7</td><td>1283171139003572225</td><td>deebee</td><td>0</td><td>Politics</td><td>Canada</td></tr><tr><td>14/07/2020 22:45</td><td>Canada</td><td>37</td><td>211</td><td>Canada</td><td>null</td><td>0</td><td>VeinVigri</td><td>#Canada</td><td>@Reuters Calling Captain #Trudeau of the sinking Ship #Canada!</td><td>1283170891715813376</td><td>A European Looking In</td><td>0</td><td>Politics</td><td>Canada</td></tr><tr><td>14/07/2020 22:45</td><td>Canada</td><td>5178</td><td>892</td><td>Canada</td><td>Halifax Nova Scotia</td><td>0</td><td>Spinthemap</td><td>#Canada</td><td>Two puffins riding the waves! This was such a great experience on @VisitNovaScotia @TourismCB if you haven't seen p… https://t.co/DqyBTs2AwV</td><td>1283170838758535168</td><td>Tiffany</td><td>0.6588</td><td>Politics</td><td>Canada</td></tr><tr><td>14/07/2020 22:45</td><td>Canada</td><td>4524</td><td>2171</td><td>Canada</td><td>San Antonio, TX</td><td>7</td><td>Rehsor</td><td>#Canada</td><td>RT @AlmasCollectio1: https://t.co/w6KIHNTG0B  Look our new Agate Stone oval cut Turkish Silver rings.  #usa #canada #uk #eu #turkishring #k…</td><td>1283170749159792640</td><td>Rehsor One</td><td>-0.2732</td><td>Politics</td><td>Canada</td></tr><tr><td>14/07/2020 22:45</td><td>Canada</td><td>781</td><td>1991</td><td>Canada</td><td>null</td><td>0</td><td>faroukrm</td><td>#Canada</td><td>Photo by Farouk Rojas  #toronto #to #canada #ontario  #street #neighborhood #buildings #urbanandstreet #cityscape… https://t.co/ngwM4GRpXt</td><td>1283170742566174721</td><td>Farouk</td><td>0</td><td>Politics</td><td>Canada</td></tr></tbody></table></div>"
      ]
     },
     "metadata": {
      "application/vnd.databricks.v1+output": {
       "addedWidgets": {},
       "aggData": [],
       "aggError": "",
       "aggOverflow": false,
       "aggSchema": [],
       "aggSeriesLimitReached": false,
       "aggType": "",
       "arguments": {},
       "columnCustomDisplayInfos": {},
       "data": [
        [
         "14/07/2020 22:46",
         "Canada",
         98,
         172,
         "Canada",
         null,
         0,
         "STACKZBYTCHEZ",
         "#Canada",
         "https://t.co/bIlmMYUV5C ⬅️TAP THE LINK ITS A WEBSITE  #blackbusiness #blacklivesmatter #protest #nojusticenopeace… https://t.co/76ITmfvFc7",
         "1283171139003572225",
         "deebee",
         "0",
         "Politics",
         "Canada"
        ],
        [
         "14/07/2020 22:45",
         "Canada",
         37,
         211,
         "Canada",
         null,
         0,
         "VeinVigri",
         "#Canada",
         "@Reuters Calling Captain #Trudeau of the sinking Ship #Canada!",
         "1283170891715813376",
         "A European Looking In",
         "0",
         "Politics",
         "Canada"
        ],
        [
         "14/07/2020 22:45",
         "Canada",
         5178,
         892,
         "Canada",
         "Halifax Nova Scotia",
         0,
         "Spinthemap",
         "#Canada",
         "Two puffins riding the waves! This was such a great experience on @VisitNovaScotia @TourismCB if you haven't seen p… https://t.co/DqyBTs2AwV",
         "1283170838758535168",
         "Tiffany",
         "0.6588",
         "Politics",
         "Canada"
        ],
        [
         "14/07/2020 22:45",
         "Canada",
         4524,
         2171,
         "Canada",
         "San Antonio, TX",
         7,
         "Rehsor",
         "#Canada",
         "RT @AlmasCollectio1: https://t.co/w6KIHNTG0B  Look our new Agate Stone oval cut Turkish Silver rings.  #usa #canada #uk #eu #turkishring #k…",
         "1283170749159792640",
         "Rehsor One",
         "-0.2732",
         "Politics",
         "Canada"
        ],
        [
         "14/07/2020 22:45",
         "Canada",
         781,
         1991,
         "Canada",
         null,
         0,
         "faroukrm",
         "#Canada",
         "Photo by Farouk Rojas  #toronto #to #canada #ontario  #street #neighborhood #buildings #urbanandstreet #cityscape… https://t.co/ngwM4GRpXt",
         "1283170742566174721",
         "Farouk",
         "0",
         "Politics",
         "Canada"
        ]
       ],
       "datasetInfos": [],
       "dbfsResultPath": null,
       "isJsonSchema": true,
       "metadata": {},
       "overflow": false,
       "plotOptions": {
        "customPlotOptions": {},
        "displayType": "table",
        "pivotAggregation": null,
        "pivotColumns": null,
        "xColumns": null,
        "yColumns": null
       },
       "removedWidgets": [],
       "schema": [
        {
         "metadata": "{}",
         "name": "created_at",
         "type": "\"string\""
        },
        {
         "metadata": "{}",
         "name": "file_name",
         "type": "\"string\""
        },
        {
         "metadata": "{}",
         "name": "followers",
         "type": "\"integer\""
        },
        {
         "metadata": "{}",
         "name": "friends",
         "type": "\"integer\""
        },
        {
         "metadata": "{}",
         "name": "group_name",
         "type": "\"string\""
        },
        {
         "metadata": "{}",
         "name": "location",
         "type": "\"string\""
        },
        {
         "metadata": "{}",
         "name": "retweet_count",
         "type": "\"integer\""
        },
        {
         "metadata": "{}",
         "name": "screenname",
         "type": "\"string\""
        },
        {
         "metadata": "{}",
         "name": "search_query",
         "type": "\"string\""
        },
        {
         "metadata": "{}",
         "name": "text",
         "type": "\"string\""
        },
        {
         "metadata": "{}",
         "name": "twitter_id",
         "type": "\"string\""
        },
        {
         "metadata": "{}",
         "name": "username",
         "type": "\"string\""
        },
        {
         "metadata": "{}",
         "name": "polarity",
         "type": "\"string\""
        },
        {
         "metadata": "{}",
         "name": "partition_0",
         "type": "\"string\""
        },
        {
         "metadata": "{}",
         "name": "partition_1",
         "type": "\"string\""
        }
       ],
       "type": "table"
      }
     },
     "output_type": "display_data"
    }
   ],
   "source": [
    "# load the data into a dataframe\n",
    "df= (\n",
    "\n",
    "    spark.read.format(\"csv\")\n",
    "    .option(\"header\", \"true\")\n",
    "    .option(\"inferSchema\", \"true\")\n",
    "    .load(\"/mnt/NewMount/folder/July_2020.csv\")\n",
    ")\n",
    "\n",
    "display(df.limit(5))"
   ]
  },
  {
   "cell_type": "code",
   "execution_count": 0,
   "metadata": {
    "application/vnd.databricks.v1+cell": {
     "cellMetadata": {
      "byteLimit": 2048000,
      "rowLimit": 10000
     },
     "inputWidgets": {},
     "nuid": "b431ec39-9ade-40b2-bcc9-50b487ec7945",
     "showTitle": false,
     "tableResultSettingsMap": {},
     "title": ""
    }
   },
   "outputs": [
    {
     "output_type": "display_data",
     "data": {
      "text/html": [
       "<style scoped>\n",
       "  .table-result-container {\n",
       "    max-height: 300px;\n",
       "    overflow: auto;\n",
       "  }\n",
       "  table, th, td {\n",
       "    border: 1px solid black;\n",
       "    border-collapse: collapse;\n",
       "  }\n",
       "  th, td {\n",
       "    padding: 5px;\n",
       "  }\n",
       "  th {\n",
       "    text-align: left;\n",
       "  }\n",
       "</style><div class='table-result-container'><table class='table-result'><thead style='background-color: white'><tr><th>file_name</th><th>followers</th><th>friends</th><th>group_name</th><th>location</th><th>retweet_count</th><th>screenname</th><th>search_query</th><th>text</th><th>twitter_id</th><th>username</th><th>polarity</th><th>partition_0</th><th>partition_1</th><th>Date</th><th>Time</th></tr></thead><tbody><tr><td>Canada</td><td>98</td><td>172</td><td>Canada</td><td>null</td><td>0</td><td>STACKZBYTCHEZ</td><td>#Canada</td><td>https://t.co/bIlmMYUV5C ⬅️TAP THE LINK ITS A WEBSITE  #blackbusiness #blacklivesmatter #protest #nojusticenopeace… https://t.co/76ITmfvFc7</td><td>1283171139003572225</td><td>deebee</td><td>0</td><td>Politics</td><td>Canada</td><td>14/07/2020</td><td>22:46</td></tr><tr><td>Canada</td><td>37</td><td>211</td><td>Canada</td><td>null</td><td>0</td><td>VeinVigri</td><td>#Canada</td><td>@Reuters Calling Captain #Trudeau of the sinking Ship #Canada!</td><td>1283170891715813376</td><td>A European Looking In</td><td>0</td><td>Politics</td><td>Canada</td><td>14/07/2020</td><td>22:45</td></tr><tr><td>Canada</td><td>5178</td><td>892</td><td>Canada</td><td>Halifax Nova Scotia</td><td>0</td><td>Spinthemap</td><td>#Canada</td><td>Two puffins riding the waves! This was such a great experience on @VisitNovaScotia @TourismCB if you haven't seen p… https://t.co/DqyBTs2AwV</td><td>1283170838758535168</td><td>Tiffany</td><td>0.6588</td><td>Politics</td><td>Canada</td><td>14/07/2020</td><td>22:45</td></tr><tr><td>Canada</td><td>4524</td><td>2171</td><td>Canada</td><td>San Antonio, TX</td><td>7</td><td>Rehsor</td><td>#Canada</td><td>RT @AlmasCollectio1: https://t.co/w6KIHNTG0B  Look our new Agate Stone oval cut Turkish Silver rings.  #usa #canada #uk #eu #turkishring #k…</td><td>1283170749159792640</td><td>Rehsor One</td><td>-0.2732</td><td>Politics</td><td>Canada</td><td>14/07/2020</td><td>22:45</td></tr><tr><td>Canada</td><td>781</td><td>1991</td><td>Canada</td><td>null</td><td>0</td><td>faroukrm</td><td>#Canada</td><td>Photo by Farouk Rojas  #toronto #to #canada #ontario  #street #neighborhood #buildings #urbanandstreet #cityscape… https://t.co/ngwM4GRpXt</td><td>1283170742566174721</td><td>Farouk</td><td>0</td><td>Politics</td><td>Canada</td><td>14/07/2020</td><td>22:45</td></tr></tbody></table></div>"
      ]
     },
     "metadata": {
      "application/vnd.databricks.v1+output": {
       "addedWidgets": {},
       "aggData": [],
       "aggError": "",
       "aggOverflow": false,
       "aggSchema": [],
       "aggSeriesLimitReached": false,
       "aggType": "",
       "arguments": {},
       "columnCustomDisplayInfos": {},
       "data": [
        [
         "Canada",
         98,
         172,
         "Canada",
         null,
         0,
         "STACKZBYTCHEZ",
         "#Canada",
         "https://t.co/bIlmMYUV5C ⬅️TAP THE LINK ITS A WEBSITE  #blackbusiness #blacklivesmatter #protest #nojusticenopeace… https://t.co/76ITmfvFc7",
         "1283171139003572225",
         "deebee",
         "0",
         "Politics",
         "Canada",
         "14/07/2020",
         "22:46"
        ],
        [
         "Canada",
         37,
         211,
         "Canada",
         null,
         0,
         "VeinVigri",
         "#Canada",
         "@Reuters Calling Captain #Trudeau of the sinking Ship #Canada!",
         "1283170891715813376",
         "A European Looking In",
         "0",
         "Politics",
         "Canada",
         "14/07/2020",
         "22:45"
        ],
        [
         "Canada",
         5178,
         892,
         "Canada",
         "Halifax Nova Scotia",
         0,
         "Spinthemap",
         "#Canada",
         "Two puffins riding the waves! This was such a great experience on @VisitNovaScotia @TourismCB if you haven't seen p… https://t.co/DqyBTs2AwV",
         "1283170838758535168",
         "Tiffany",
         "0.6588",
         "Politics",
         "Canada",
         "14/07/2020",
         "22:45"
        ],
        [
         "Canada",
         4524,
         2171,
         "Canada",
         "San Antonio, TX",
         7,
         "Rehsor",
         "#Canada",
         "RT @AlmasCollectio1: https://t.co/w6KIHNTG0B  Look our new Agate Stone oval cut Turkish Silver rings.  #usa #canada #uk #eu #turkishring #k…",
         "1283170749159792640",
         "Rehsor One",
         "-0.2732",
         "Politics",
         "Canada",
         "14/07/2020",
         "22:45"
        ],
        [
         "Canada",
         781,
         1991,
         "Canada",
         null,
         0,
         "faroukrm",
         "#Canada",
         "Photo by Farouk Rojas  #toronto #to #canada #ontario  #street #neighborhood #buildings #urbanandstreet #cityscape… https://t.co/ngwM4GRpXt",
         "1283170742566174721",
         "Farouk",
         "0",
         "Politics",
         "Canada",
         "14/07/2020",
         "22:45"
        ]
       ],
       "datasetInfos": [],
       "dbfsResultPath": null,
       "isJsonSchema": true,
       "metadata": {},
       "overflow": false,
       "plotOptions": {
        "customPlotOptions": {},
        "displayType": "table",
        "pivotAggregation": null,
        "pivotColumns": null,
        "xColumns": null,
        "yColumns": null
       },
       "removedWidgets": [],
       "schema": [
        {
         "metadata": "{}",
         "name": "file_name",
         "type": "\"string\""
        },
        {
         "metadata": "{}",
         "name": "followers",
         "type": "\"integer\""
        },
        {
         "metadata": "{}",
         "name": "friends",
         "type": "\"integer\""
        },
        {
         "metadata": "{}",
         "name": "group_name",
         "type": "\"string\""
        },
        {
         "metadata": "{}",
         "name": "location",
         "type": "\"string\""
        },
        {
         "metadata": "{}",
         "name": "retweet_count",
         "type": "\"integer\""
        },
        {
         "metadata": "{}",
         "name": "screenname",
         "type": "\"string\""
        },
        {
         "metadata": "{}",
         "name": "search_query",
         "type": "\"string\""
        },
        {
         "metadata": "{}",
         "name": "text",
         "type": "\"string\""
        },
        {
         "metadata": "{}",
         "name": "twitter_id",
         "type": "\"string\""
        },
        {
         "metadata": "{}",
         "name": "username",
         "type": "\"string\""
        },
        {
         "metadata": "{}",
         "name": "polarity",
         "type": "\"string\""
        },
        {
         "metadata": "{}",
         "name": "partition_0",
         "type": "\"string\""
        },
        {
         "metadata": "{}",
         "name": "partition_1",
         "type": "\"string\""
        },
        {
         "metadata": "{}",
         "name": "Date",
         "type": "\"string\""
        },
        {
         "metadata": "{}",
         "name": "Time",
         "type": "\"string\""
        }
       ],
       "type": "table"
      }
     },
     "output_type": "display_data"
    }
   ],
   "source": [
    "from pyspark.sql.functions import split\n",
    "\n",
    "# Split the created_at column into Date and Time columns\n",
    "df1 = df.withColumn(\"Date\", split(df[\"created_at\"], ' ')[0]) \\\n",
    "        .withColumn(\"Time\", split(df[\"created_at\"], ' ')[1]) \\\n",
    "        .drop(\"created_at\")\n",
    "\n",
    "display(df1.limit(5))"
   ]
  },
  {
   "cell_type": "code",
   "execution_count": 0,
   "metadata": {
    "application/vnd.databricks.v1+cell": {
     "cellMetadata": {
      "byteLimit": 2048000,
      "rowLimit": 10000
     },
     "inputWidgets": {},
     "nuid": "93a6b43d-a9db-4203-ac3b-2c21190c18f6",
     "showTitle": false,
     "tableResultSettingsMap": {},
     "title": ""
    }
   },
   "outputs": [
    {
     "output_type": "display_data",
     "data": {
      "text/html": [
       "<style scoped>\n",
       "  .table-result-container {\n",
       "    max-height: 300px;\n",
       "    overflow: auto;\n",
       "  }\n",
       "  table, th, td {\n",
       "    border: 1px solid black;\n",
       "    border-collapse: collapse;\n",
       "  }\n",
       "  th, td {\n",
       "    padding: 5px;\n",
       "  }\n",
       "  th {\n",
       "    text-align: left;\n",
       "  }\n",
       "</style><div class='table-result-container'><table class='table-result'><thead style='background-color: white'><tr><th>group_name</th><th>count</th></tr></thead><tbody><tr><td>Argentina</td><td>27</td></tr><tr><td>Finland</td><td>635</td></tr><tr><td>Bolivia</td><td>252</td></tr><tr><td>Canada</td><td>59</td></tr></tbody></table></div>"
      ]
     },
     "metadata": {
      "application/vnd.databricks.v1+output": {
       "addedWidgets": {},
       "aggData": [],
       "aggError": "",
       "aggOverflow": false,
       "aggSchema": [],
       "aggSeriesLimitReached": false,
       "aggType": "",
       "arguments": {},
       "columnCustomDisplayInfos": {},
       "data": [
        [
         "Argentina",
         27
        ],
        [
         "Finland",
         635
        ],
        [
         "Bolivia",
         252
        ],
        [
         "Canada",
         59
        ]
       ],
       "datasetInfos": [],
       "dbfsResultPath": null,
       "isJsonSchema": true,
       "metadata": {},
       "overflow": false,
       "plotOptions": {
        "customPlotOptions": {},
        "displayType": "table",
        "pivotAggregation": null,
        "pivotColumns": null,
        "xColumns": null,
        "yColumns": null
       },
       "removedWidgets": [],
       "schema": [
        {
         "metadata": "{}",
         "name": "group_name",
         "type": "\"string\""
        },
        {
         "metadata": "{}",
         "name": "count",
         "type": "\"long\""
        }
       ],
       "type": "table"
      }
     },
     "output_type": "display_data"
    }
   ],
   "source": [
    "# Group by category and count the number of rows in each category\n",
    "df_grouped = df1.groupBy(\"group_name\").count()\n",
    "display(df_grouped)"
   ]
  },
  {
   "cell_type": "code",
   "execution_count": 0,
   "metadata": {
    "application/vnd.databricks.v1+cell": {
     "cellMetadata": {
      "byteLimit": 2048000,
      "rowLimit": 10000
     },
     "inputWidgets": {},
     "nuid": "7cbeb20b-d19c-416f-a5d5-7cbb260c77e2",
     "showTitle": false,
     "tableResultSettingsMap": {},
     "title": ""
    }
   },
   "outputs": [
    {
     "output_type": "display_data",
     "data": {
      "text/html": [
       "<style scoped>\n",
       "  .table-result-container {\n",
       "    max-height: 300px;\n",
       "    overflow: auto;\n",
       "  }\n",
       "  table, th, td {\n",
       "    border: 1px solid black;\n",
       "    border-collapse: collapse;\n",
       "  }\n",
       "  th, td {\n",
       "    padding: 5px;\n",
       "  }\n",
       "  th {\n",
       "    text-align: left;\n",
       "  }\n",
       "</style><div class='table-result-container'><table class='table-result'><thead style='background-color: white'><tr><th>file_name</th><th>followers</th><th>friends</th><th>group_name</th><th>location</th><th>retweet_count</th><th>screenname</th><th>search_query</th><th>text</th><th>twitter_id</th><th>username</th><th>polarity</th><th>partition_0</th><th>partition_1</th><th>Date</th><th>Time</th></tr></thead><tbody><tr><td>Canada</td><td>5178</td><td>892</td><td>Canada</td><td>Halifax Nova Scotia</td><td>0</td><td>Spinthemap</td><td>#Canada</td><td>Two puffins riding the waves! This was such a great experience on @VisitNovaScotia @TourismCB if you haven't seen p… https://t.co/DqyBTs2AwV</td><td>1283170838758535168</td><td>Tiffany</td><td>0.6588</td><td>Politics</td><td>Canada</td><td>14/07/2020</td><td>22:45</td></tr><tr><td>Canada</td><td>4524</td><td>2171</td><td>Canada</td><td>San Antonio, TX</td><td>7</td><td>Rehsor</td><td>#Canada</td><td>RT @AlmasCollectio1: https://t.co/w6KIHNTG0B  Look our new Agate Stone oval cut Turkish Silver rings.  #usa #canada #uk #eu #turkishring #k…</td><td>1283170749159792640</td><td>Rehsor One</td><td>-0.2732</td><td>Politics</td><td>Canada</td><td>14/07/2020</td><td>22:45</td></tr><tr><td>Canada</td><td>2443</td><td>994</td><td>Canada</td><td>Calgary, Alberta</td><td>10</td><td>ahopeross</td><td>#Canada</td><td>RT @freshdaily: Canadian man goes on racist rant after woman rejects his advances https://t.co/4TTGyHTG2y #Canada #RacisminCanada #YEG #Rac…</td><td>1283170425363562496</td><td>AHR - Wash Yer Hands</td><td>-0.8625</td><td>Politics</td><td>Canada</td><td>14/07/2020</td><td>22:44</td></tr><tr><td>Canada</td><td>1040</td><td>1145</td><td>Canada</td><td>Rhode Island, USA</td><td>0</td><td>seanmcveigh</td><td>#Canada</td><td>Last summer we traveling and capturing photos of Quebec City.  This year it is a totally different story. . . . .… https://t.co/YmKyxyNEfO</td><td>1283170221897940993</td><td>Sean McVeigh Media</td><td>0</td><td>Politics</td><td>Canada</td><td>14/07/2020</td><td>22:43</td></tr><tr><td>Canada</td><td>5841</td><td>1832</td><td>Canada</td><td>Canada</td><td>0</td><td>tradelawyer</td><td>#Canada</td><td>The act requires “mandatory sanctions” against any foreign individual for “materially contributing” to the violatio… https://t.co/GipnV7ZNjd</td><td>1283170073973329923</td><td>John Boscariol</td><td>0</td><td>Politics</td><td>Canada</td><td>14/07/2020</td><td>22:42</td></tr></tbody></table></div>"
      ]
     },
     "metadata": {
      "application/vnd.databricks.v1+output": {
       "addedWidgets": {},
       "aggData": [],
       "aggError": "",
       "aggOverflow": false,
       "aggSchema": [],
       "aggSeriesLimitReached": false,
       "aggType": "",
       "arguments": {},
       "columnCustomDisplayInfos": {},
       "data": [
        [
         "Canada",
         5178,
         892,
         "Canada",
         "Halifax Nova Scotia",
         0,
         "Spinthemap",
         "#Canada",
         "Two puffins riding the waves! This was such a great experience on @VisitNovaScotia @TourismCB if you haven't seen p… https://t.co/DqyBTs2AwV",
         "1283170838758535168",
         "Tiffany",
         "0.6588",
         "Politics",
         "Canada",
         "14/07/2020",
         "22:45"
        ],
        [
         "Canada",
         4524,
         2171,
         "Canada",
         "San Antonio, TX",
         7,
         "Rehsor",
         "#Canada",
         "RT @AlmasCollectio1: https://t.co/w6KIHNTG0B  Look our new Agate Stone oval cut Turkish Silver rings.  #usa #canada #uk #eu #turkishring #k…",
         "1283170749159792640",
         "Rehsor One",
         "-0.2732",
         "Politics",
         "Canada",
         "14/07/2020",
         "22:45"
        ],
        [
         "Canada",
         2443,
         994,
         "Canada",
         "Calgary, Alberta",
         10,
         "ahopeross",
         "#Canada",
         "RT @freshdaily: Canadian man goes on racist rant after woman rejects his advances https://t.co/4TTGyHTG2y #Canada #RacisminCanada #YEG #Rac…",
         "1283170425363562496",
         "AHR - Wash Yer Hands",
         "-0.8625",
         "Politics",
         "Canada",
         "14/07/2020",
         "22:44"
        ],
        [
         "Canada",
         1040,
         1145,
         "Canada",
         "Rhode Island, USA",
         0,
         "seanmcveigh",
         "#Canada",
         "Last summer we traveling and capturing photos of Quebec City.  This year it is a totally different story. . . . .… https://t.co/YmKyxyNEfO",
         "1283170221897940993",
         "Sean McVeigh Media",
         "0",
         "Politics",
         "Canada",
         "14/07/2020",
         "22:43"
        ],
        [
         "Canada",
         5841,
         1832,
         "Canada",
         "Canada",
         0,
         "tradelawyer",
         "#Canada",
         "The act requires “mandatory sanctions” against any foreign individual for “materially contributing” to the violatio… https://t.co/GipnV7ZNjd",
         "1283170073973329923",
         "John Boscariol",
         "0",
         "Politics",
         "Canada",
         "14/07/2020",
         "22:42"
        ]
       ],
       "datasetInfos": [],
       "dbfsResultPath": null,
       "isJsonSchema": true,
       "metadata": {},
       "overflow": false,
       "plotOptions": {
        "customPlotOptions": {},
        "displayType": "table",
        "pivotAggregation": null,
        "pivotColumns": null,
        "xColumns": null,
        "yColumns": null
       },
       "removedWidgets": [],
       "schema": [
        {
         "metadata": "{}",
         "name": "file_name",
         "type": "\"string\""
        },
        {
         "metadata": "{}",
         "name": "followers",
         "type": "\"integer\""
        },
        {
         "metadata": "{}",
         "name": "friends",
         "type": "\"integer\""
        },
        {
         "metadata": "{}",
         "name": "group_name",
         "type": "\"string\""
        },
        {
         "metadata": "{}",
         "name": "location",
         "type": "\"string\""
        },
        {
         "metadata": "{}",
         "name": "retweet_count",
         "type": "\"integer\""
        },
        {
         "metadata": "{}",
         "name": "screenname",
         "type": "\"string\""
        },
        {
         "metadata": "{}",
         "name": "search_query",
         "type": "\"string\""
        },
        {
         "metadata": "{}",
         "name": "text",
         "type": "\"string\""
        },
        {
         "metadata": "{}",
         "name": "twitter_id",
         "type": "\"string\""
        },
        {
         "metadata": "{}",
         "name": "username",
         "type": "\"string\""
        },
        {
         "metadata": "{}",
         "name": "polarity",
         "type": "\"string\""
        },
        {
         "metadata": "{}",
         "name": "partition_0",
         "type": "\"string\""
        },
        {
         "metadata": "{}",
         "name": "partition_1",
         "type": "\"string\""
        },
        {
         "metadata": "{}",
         "name": "Date",
         "type": "\"string\""
        },
        {
         "metadata": "{}",
         "name": "Time",
         "type": "\"string\""
        }
       ],
       "type": "table"
      }
     },
     "output_type": "display_data"
    }
   ],
   "source": [
    "# Filter rows for accounts with more than 1000 followers\n",
    "df_f = df1.filter(df1[\"followers\"] > 1000)\n",
    "display(df_f.limit(5))"
   ]
  },
  {
   "cell_type": "code",
   "execution_count": 0,
   "metadata": {
    "application/vnd.databricks.v1+cell": {
     "cellMetadata": {
      "byteLimit": 2048000,
      "rowLimit": 10000
     },
     "inputWidgets": {},
     "nuid": "6142700c-585d-40a8-bb34-184dc8e67416",
     "showTitle": false,
     "tableResultSettingsMap": {},
     "title": ""
    }
   },
   "outputs": [
    {
     "output_type": "display_data",
     "data": {
      "text/html": [
       "<style scoped>\n",
       "  .table-result-container {\n",
       "    max-height: 300px;\n",
       "    overflow: auto;\n",
       "  }\n",
       "  table, th, td {\n",
       "    border: 1px solid black;\n",
       "    border-collapse: collapse;\n",
       "  }\n",
       "  th, td {\n",
       "    padding: 5px;\n",
       "  }\n",
       "  th {\n",
       "    text-align: left;\n",
       "  }\n",
       "</style><div class='table-result-container'><table class='table-result'><thead style='background-color: white'><tr><th>search_query</th><th>average_polarity</th></tr></thead><tbody><tr><td>#Canada</td><td>0.06856779661016948</td></tr><tr><td>#Finland</td><td>8.195454637937528E15</td></tr><tr><td>#Argentina</td><td>0.18174814814814816</td></tr><tr><td>#Bolivia</td><td>0.032056048387096796</td></tr></tbody></table></div>"
      ]
     },
     "metadata": {
      "application/vnd.databricks.v1+output": {
       "addedWidgets": {},
       "aggData": [],
       "aggError": "",
       "aggOverflow": false,
       "aggSchema": [],
       "aggSeriesLimitReached": false,
       "aggType": "",
       "arguments": {},
       "columnCustomDisplayInfos": {},
       "data": [
        [
         "#Canada",
         0.06856779661016948
        ],
        [
         "#Finland",
         8.195454637937528E15
        ],
        [
         "#Argentina",
         0.18174814814814816
        ],
        [
         "#Bolivia",
         0.032056048387096796
        ]
       ],
       "datasetInfos": [],
       "dbfsResultPath": null,
       "isJsonSchema": true,
       "metadata": {},
       "overflow": false,
       "plotOptions": {
        "customPlotOptions": {},
        "displayType": "table",
        "pivotAggregation": null,
        "pivotColumns": null,
        "xColumns": null,
        "yColumns": null
       },
       "removedWidgets": [],
       "schema": [
        {
         "metadata": "{}",
         "name": "search_query",
         "type": "\"string\""
        },
        {
         "metadata": "{}",
         "name": "average_polarity",
         "type": "\"double\""
        }
       ],
       "type": "table"
      }
     },
     "output_type": "display_data"
    }
   ],
   "source": [
    "from pyspark.sql.functions import avg, count\n",
    "\n",
    "# Group by search_query and calculate the average of polarity\n",
    "df_agg = df1.groupBy(\"search_query\").agg(\n",
    "    avg(\"polarity\").alias(\"average_polarity\")\n",
    ")\n",
    "display(df_agg)"
   ]
  },
  {
   "cell_type": "code",
   "execution_count": 0,
   "metadata": {
    "application/vnd.databricks.v1+cell": {
     "cellMetadata": {
      "byteLimit": 2048000,
      "rowLimit": 10000
     },
     "inputWidgets": {},
     "nuid": "53f55d2c-5cca-453c-8d3e-d2096fec81c3",
     "showTitle": false,
     "tableResultSettingsMap": {},
     "title": ""
    }
   },
   "outputs": [
    {
     "output_type": "display_data",
     "data": {
      "text/html": [
       "<style scoped>\n",
       "  .table-result-container {\n",
       "    max-height: 300px;\n",
       "    overflow: auto;\n",
       "  }\n",
       "  table, th, td {\n",
       "    border: 1px solid black;\n",
       "    border-collapse: collapse;\n",
       "  }\n",
       "  th, td {\n",
       "    padding: 5px;\n",
       "  }\n",
       "  th {\n",
       "    text-align: left;\n",
       "  }\n",
       "</style><div class='table-result-container'><table class='table-result'><thead style='background-color: white'><tr><th>total_retweets</th></tr></thead><tbody><tr><td>13970</td></tr></tbody></table></div>"
      ]
     },
     "metadata": {
      "application/vnd.databricks.v1+output": {
       "addedWidgets": {},
       "aggData": [],
       "aggError": "",
       "aggOverflow": false,
       "aggSchema": [],
       "aggSeriesLimitReached": false,
       "aggType": "",
       "arguments": {},
       "columnCustomDisplayInfos": {},
       "data": [
        [
         13970
        ]
       ],
       "datasetInfos": [],
       "dbfsResultPath": null,
       "isJsonSchema": true,
       "metadata": {},
       "overflow": false,
       "plotOptions": {
        "customPlotOptions": {},
        "displayType": "table",
        "pivotAggregation": null,
        "pivotColumns": null,
        "xColumns": null,
        "yColumns": null
       },
       "removedWidgets": [],
       "schema": [
        {
         "metadata": "{}",
         "name": "total_retweets",
         "type": "\"long\""
        }
       ],
       "type": "table"
      }
     },
     "output_type": "display_data"
    }
   ],
   "source": [
    "from pyspark.sql.functions import sum\n",
    "\n",
    "# Filter rows where status is 'active' and calculate the sum of a column (e.g., sales)\n",
    "df_fil_agg = df1.filter(df1[\"friends\"] > 500).agg(\n",
    "    sum(\"retweet_count\").alias(\"total_retweets\")\n",
    ")\n",
    "display(df_fil_agg)"
   ]
  },
  {
   "cell_type": "code",
   "execution_count": 0,
   "metadata": {
    "application/vnd.databricks.v1+cell": {
     "cellMetadata": {
      "byteLimit": 2048000,
      "rowLimit": 10000
     },
     "inputWidgets": {},
     "nuid": "d4de8973-055c-45a8-9597-396acea4b11b",
     "showTitle": false,
     "tableResultSettingsMap": {},
     "title": ""
    }
   },
   "outputs": [
    {
     "output_type": "display_data",
     "data": {
      "text/html": [
       "<style scoped>\n",
       "  .table-result-container {\n",
       "    max-height: 300px;\n",
       "    overflow: auto;\n",
       "  }\n",
       "  table, th, td {\n",
       "    border: 1px solid black;\n",
       "    border-collapse: collapse;\n",
       "  }\n",
       "  th, td {\n",
       "    padding: 5px;\n",
       "  }\n",
       "  th {\n",
       "    text-align: left;\n",
       "  }\n",
       "</style><div class='table-result-container'><table class='table-result'><thead style='background-color: white'><tr><th>file_name</th><th>followers</th><th>friends</th><th>text</th></tr></thead><tbody><tr><td>Canada</td><td>98</td><td>172</td><td>https://t.co/bIlmMYUV5C ⬅️TAP THE LINK ITS A WEBSITE  #blackbusiness #blacklivesmatter #protest #nojusticenopeace… https://t.co/76ITmfvFc7</td></tr><tr><td>Canada</td><td>37</td><td>211</td><td>@Reuters Calling Captain #Trudeau of the sinking Ship #Canada!</td></tr><tr><td>Canada</td><td>5178</td><td>892</td><td>Two puffins riding the waves! This was such a great experience on @VisitNovaScotia @TourismCB if you haven't seen p… https://t.co/DqyBTs2AwV</td></tr><tr><td>Canada</td><td>4524</td><td>2171</td><td>RT @AlmasCollectio1: https://t.co/w6KIHNTG0B  Look our new Agate Stone oval cut Turkish Silver rings.  #usa #canada #uk #eu #turkishring #k…</td></tr><tr><td>Canada</td><td>781</td><td>1991</td><td>Photo by Farouk Rojas  #toronto #to #canada #ontario  #street #neighborhood #buildings #urbanandstreet #cityscape… https://t.co/ngwM4GRpXt</td></tr></tbody></table></div>"
      ]
     },
     "metadata": {
      "application/vnd.databricks.v1+output": {
       "addedWidgets": {},
       "aggData": [],
       "aggError": "",
       "aggOverflow": false,
       "aggSchema": [],
       "aggSeriesLimitReached": false,
       "aggType": "",
       "arguments": {},
       "columnCustomDisplayInfos": {},
       "data": [
        [
         "Canada",
         98,
         172,
         "https://t.co/bIlmMYUV5C ⬅️TAP THE LINK ITS A WEBSITE  #blackbusiness #blacklivesmatter #protest #nojusticenopeace… https://t.co/76ITmfvFc7"
        ],
        [
         "Canada",
         37,
         211,
         "@Reuters Calling Captain #Trudeau of the sinking Ship #Canada!"
        ],
        [
         "Canada",
         5178,
         892,
         "Two puffins riding the waves! This was such a great experience on @VisitNovaScotia @TourismCB if you haven't seen p… https://t.co/DqyBTs2AwV"
        ],
        [
         "Canada",
         4524,
         2171,
         "RT @AlmasCollectio1: https://t.co/w6KIHNTG0B  Look our new Agate Stone oval cut Turkish Silver rings.  #usa #canada #uk #eu #turkishring #k…"
        ],
        [
         "Canada",
         781,
         1991,
         "Photo by Farouk Rojas  #toronto #to #canada #ontario  #street #neighborhood #buildings #urbanandstreet #cityscape… https://t.co/ngwM4GRpXt"
        ]
       ],
       "datasetInfos": [],
       "dbfsResultPath": null,
       "isJsonSchema": true,
       "metadata": {},
       "overflow": false,
       "plotOptions": {
        "customPlotOptions": {},
        "displayType": "table",
        "pivotAggregation": null,
        "pivotColumns": null,
        "xColumns": null,
        "yColumns": null
       },
       "removedWidgets": [],
       "schema": [
        {
         "metadata": "{}",
         "name": "file_name",
         "type": "\"string\""
        },
        {
         "metadata": "{}",
         "name": "followers",
         "type": "\"integer\""
        },
        {
         "metadata": "{}",
         "name": "friends",
         "type": "\"integer\""
        },
        {
         "metadata": "{}",
         "name": "text",
         "type": "\"string\""
        }
       ],
       "type": "table"
      }
     },
     "output_type": "display_data"
    }
   ],
   "source": [
    "# creating a sample dataframe to load to sql storage to demonstrate funcionality\n",
    "\n",
    "df_sql = df1['file_name','followers','friends','text']\n",
    "display(df_sql.limit(5))"
   ]
  },
  {
   "cell_type": "code",
   "execution_count": 0,
   "metadata": {
    "application/vnd.databricks.v1+cell": {
     "cellMetadata": {
      "byteLimit": 2048000,
      "rowLimit": 10000
     },
     "inputWidgets": {},
     "nuid": "7a550f84-eab3-44a2-bbaa-c52aef5b6398",
     "showTitle": false,
     "tableResultSettingsMap": {},
     "title": ""
    }
   },
   "outputs": [],
   "source": [
    "# Create new folder in storage and loading a sample dataframe\n",
    "df_sql.coalesce(1).write.csv(\"/mnt/NewMount/updated_data/latest_data\", mode=\"overwrite\")"
   ]
  }
 ],
 "metadata": {
  "application/vnd.databricks.v1+notebook": {
   "computePreferences": null,
   "dashboards": [],
   "environmentMetadata": {
    "base_environment": "",
    "environment_version": "2"
   },
   "inputWidgetPreferences": null,
   "language": "python",
   "notebookMetadata": {
    "pythonIndentUnit": 4
   },
   "notebookName": "BigDataProject",
   "widgets": {}
  },
  "language_info": {
   "name": "python"
  }
 },
 "nbformat": 4,
 "nbformat_minor": 0
}